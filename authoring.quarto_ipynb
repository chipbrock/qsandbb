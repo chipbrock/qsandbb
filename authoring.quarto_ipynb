{
  "cells": [
    {
      "cell_type": "markdown",
      "metadata": {},
      "source": [
        "---\n",
        "title: \"Authoring Page\"\n",
        "---\n",
        "\n",
        "\n",
        "## Colors\n",
        "\n",
        "- Red\n",
        "- Green \n",
        "- Blue\n",
        "\n",
        "## Shapes\n",
        "\n",
        "- Square\n",
        "- Circle\n",
        "- Triangle\n",
        "\n",
        "## Overview\n",
        "\n",
        "## Overview\n",
        "\n",
        "See @fig-simple in @sec-plot for a demonstration of a simple plot. \n",
        "\n",
        "See @eq-stddev to better understand standard deviation.\n",
        "\n",
        "## Plot {#sec-plot}\n"
      ],
      "id": "d0883582"
    },
    {
      "cell_type": "code",
      "metadata": {},
      "source": [
        "#| label: fig-simple\n",
        "#| fig-cap: Simple Plot\n",
        "import matplotlib.pyplot as plt\n",
        "plt.plot([1,23,2,4])\n",
        "plt.show()"
      ],
      "id": "fig-simple",
      "execution_count": null,
      "outputs": []
    },
    {
      "cell_type": "markdown",
      "metadata": {},
      "source": [
        "## Equation {#sec-equation}\n",
        "\n",
        "$$\n",
        "s = \\sqrt{\\frac{1}{N-1} \\sum_{i=1}^N (x_i - \\overline{x})^2}\n",
        "$$ {#eq-stddev}\n",
        "\n",
        "Knuth says always be literate [@knuth1984].\n"
      ],
      "id": "e39179bf"
    },
    {
      "cell_type": "code",
      "metadata": {},
      "source": [
        "1 + 1"
      ],
      "id": "46eca805",
      "execution_count": null,
      "outputs": []
    },
    {
      "cell_type": "markdown",
      "metadata": {},
      "source": [
        "## Textures\n",
        "\n",
        "- Smooth\n",
        "- Bumpy\n",
        "- Fuzzy\n",
        "  \n",
        "Einstein's theory of special relatively that expresses the equivalence of mass and energy:\n",
        "$E = mc^{2}$\n",
        "$$F=ma$$\n",
        "\n",
        "::: {.callout-note}\n",
        "Note that there are five types of callouts, including:\n",
        "`note`, `tip`, `warning`, `caution`, and `important`.\n",
        ":::\n",
        "\n",
        "## Placing Colorbars\n",
        "\n",
        "Colorbars indicate the quantitative extent of image data.\n",
        "Placing in a figure is non-trivial because room needs to\n",
        "be made for them. The simplest case is just attaching a \n",
        "colorbar to each axes:^[See the [Matplotlib Gallery](https://matplotlib.org/stable/gallery/subplots_axes_and_figures/colorbar_placement.html) to explore colorbars further].\n"
      ],
      "id": "40dc409f"
    },
    {
      "cell_type": "code",
      "metadata": {},
      "source": [
        "#| code-fold: true\n",
        "#| column: screen-inset\n",
        "import matplotlib.pyplot as plt\n",
        "import numpy as np\n",
        "\n",
        "fig, axs = plt.subplots(2, 2)\n",
        "fig.set_size_inches(20, 8)\n",
        "cmaps = ['RdBu_r', 'viridis']\n",
        "for col in range(2):\n",
        "    for row in range(2):\n",
        "        ax = axs[row, col]\n",
        "        pcm = ax.pcolormesh(\n",
        "          np.random.random((20, 20)) * (col + 1),\n",
        "          cmap=cmaps[col]\n",
        "        )\n",
        "        fig.colorbar(pcm, ax=ax)\n",
        "plt.show()"
      ],
      "id": "61dc3eb7",
      "execution_count": null,
      "outputs": []
    },
    {
      "cell_type": "markdown",
      "metadata": {},
      "source": [
        "## References"
      ],
      "id": "f5ba90a2"
    }
  ],
  "metadata": {
    "kernelspec": {
      "display_name": "Python 3",
      "language": "python",
      "name": "python3"
    }
  },
  "nbformat": 4,
  "nbformat_minor": 5
}